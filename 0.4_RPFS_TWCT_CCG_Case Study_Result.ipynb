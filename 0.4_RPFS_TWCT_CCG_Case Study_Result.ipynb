{
 "cells": [
  {
   "cell_type": "markdown",
   "metadata": {},
   "source": [
    "## RPFS Problem (TWCT objective) - Study Case - Tables and Graphs"
   ]
  },
  {
   "cell_type": "markdown",
   "metadata": {},
   "source": [
    "Before running this, notebook, please run notebook 0.1."
   ]
  },
  {
   "cell_type": "code",
   "execution_count": null,
   "metadata": {},
   "outputs": [],
   "source": [
    "import pandas as pd\n",
    "import numpy as np\n",
    "import os, fnmatch\n",
    "import matplotlib.pyplot as plt\n",
    "import matplotlib.dates as mdates\n",
    "import warnings\n",
    "warnings.filterwarnings('ignore')\n",
    "warnings.filterwarnings('ignore', category=DeprecationWarning)\n",
    "import glob\n",
    "import seaborn as sns\n",
    "import gzip\n",
    "import matplotlib.style as style\n",
    "from matplotlib.path import Path\n",
    "from matplotlib.patches import BoxStyle\n",
    "\n",
    "%matplotlib inline"
   ]
  },
  {
   "cell_type": "code",
   "execution_count": null,
   "metadata": {},
   "outputs": [],
   "source": [
    "import sys\n",
    "if sys.version_info[0] < 3: \n",
    "    from StringIO import StringIO\n",
    "else:\n",
    "    from io import StringIO"
   ]
  },
  {
   "cell_type": "code",
   "execution_count": null,
   "metadata": {},
   "outputs": [],
   "source": [
    "linestyle_tuple = [\n",
    "     ('dotted',                (0, (1, 1))),\n",
    "     ('dashed',                (0, (5, 5))),\n",
    "     ('densely dashed',        (0, (5, 1))),\n",
    "     ('dashdotdotted',         (0, (3, 5, 1, 5, 1, 5))),\n",
    "     ('densely dashdotdotted', (0, (3, 1, 1, 1, 1, 1))),\n",
    "\n",
    "     ('dashdotted',            (0, (3, 5, 1, 5))),\n",
    "     ('densely dashdotted',    (0, (3, 1, 1, 1))),\n",
    "     \n",
    "     ('loosely dashed',        (0, (5, 10))),\n",
    "     ('loosely dashdotted',    (0, (3, 10, 1, 10))),\n",
    "     \n",
    "\n",
    "     ('loosely dashdotdotted', (0, (3, 10, 1, 10, 1, 10))),\n",
    "     ('densely dotted',        (0, (1, 1))),\n",
    "     ('loosely dotted',        (0, (1, 10)))]"
   ]
  },
  {
   "cell_type": "code",
   "execution_count": null,
   "metadata": {},
   "outputs": [],
   "source": [
    "# https://stackoverflow.com/questions/51483901/is-there-a-way-to-extend-the-solid-color-background-to-the-full-width-of-the-pag\n",
    "class ExtendedTextBox(BoxStyle._Base):\n",
    "    \"\"\"\n",
    "    An Extended Text Box that expands to the axes limits \n",
    "                        if set in the middle of the axes\n",
    "    \"\"\"\n",
    "\n",
    "    def __init__(self, pad=0.3, width=500.):\n",
    "        \"\"\"\n",
    "        width: \n",
    "            width of the textbox. \n",
    "            Use `ax.get_window_extent().width` \n",
    "                   to get the width of the axes.\n",
    "        pad: \n",
    "            amount of padding (in vertical direction only)\n",
    "        \"\"\"\n",
    "        self.width=width\n",
    "        self.pad = pad\n",
    "        super(ExtendedTextBox, self).__init__()\n",
    "\n",
    "    def transmute(self, x0, y0, width, height, mutation_size):\n",
    "        \"\"\"\n",
    "        x0 and y0 are the lower left corner of original text box\n",
    "        They are set automatically by matplotlib\n",
    "        \"\"\"\n",
    "        # padding\n",
    "        pad = mutation_size * self.pad\n",
    "\n",
    "        # we add the padding only to the box height\n",
    "        height = height + 2.*pad\n",
    "        # boundary of the padded box\n",
    "        y0 = y0 - pad\n",
    "        y1 = y0 + height\n",
    "        _x0 = x0\n",
    "        x0 = _x0 +width /2. - self.width/2.\n",
    "        x1 = _x0 +width /2. + self.width/2.\n",
    "\n",
    "        cp = [(x0, y0),\n",
    "              (x1, y0), (x1, y1), (x0, y1),\n",
    "              (x0, y0)]\n",
    "\n",
    "        com = [Path.MOVETO,\n",
    "               Path.LINETO, Path.LINETO, Path.LINETO,\n",
    "               Path.CLOSEPOLY]\n",
    "\n",
    "        path = Path(cp, com)\n",
    "\n",
    "        return path"
   ]
  },
  {
   "cell_type": "markdown",
   "metadata": {},
   "source": [
    "### List files in the result folder "
   ]
  },
  {
   "cell_type": "code",
   "execution_count": null,
   "metadata": {},
   "outputs": [],
   "source": [
    "# Main result file for RobPFSP-TWCT\n",
    "resultfolder = os.path.join(os.getcwd(), 'results', 'consolidated')\n",
    "rpfs_file = os.path.join(resultfolder, 'RPFS_TWCT_all_results.pkl.gz')"
   ]
  },
  {
   "cell_type": "code",
   "execution_count": null,
   "metadata": {},
   "outputs": [],
   "source": [
    "resultfolder = os.path.join(os.getcwd(), 'results', 'consolidated')\n",
    "# Worstcase calculations for the robust and deterministic methods\n",
    "rpfs_worstcase_file = os.path.join('..', 'pfsp_experiments', 'calculate_rpfs_twct_worstcase', \n",
    "                                   'calculate_rpfs_twct_worstcase.csv')\n",
    "###det_file = os.path.join(resultfolder, 'PFSP_Cmax_deterministic_all_results.csv')\n",
    "# Worstcase calculations for the SimGRASP methods\n",
    "stoc_file = os.path.join('..', 'pfsp_experiments', 'run_simgrasp_twct', 'run_simgrasp_twct_stochgrasp_results.csv')"
   ]
  },
  {
   "cell_type": "markdown",
   "metadata": {},
   "source": [
    "### Create the output folder "
   ]
  },
  {
   "cell_type": "code",
   "execution_count": null,
   "metadata": {},
   "outputs": [],
   "source": [
    "outputfolder = os.path.join(os.getcwd(), 'results', 'consolidated')\n",
    "outputfolder_graph = os.path.join(os.getcwd(), 'results', 'consolidated', 'graphs')\n",
    "outputfolder_table = os.path.join(os.getcwd(), 'results', 'consolidated', 'final')\n",
    "if not os.path.exists(outputfolder_graph):\n",
    "    os.makedirs(outputfolder_graph)\n",
    "#print('Saving files on folder: ' + outputfolder)"
   ]
  },
  {
   "cell_type": "markdown",
   "metadata": {},
   "source": [
    "### Process consolidated CSV result files"
   ]
  },
  {
   "cell_type": "code",
   "execution_count": null,
   "metadata": {},
   "outputs": [],
   "source": [
    "# Robust PFSP Budget solutions only\n",
    "df_rpfs = pd.read_pickle(rpfs_file)\n",
    "df_rpfs.drop(columns=['executionId'], inplace=True)\n",
    "df_rpfs = df_rpfs.reset_index()\n",
    "# Robust PFSP Budget worst-case costs (budget)\n",
    "df_rpfs_worstcase = pd.read_csv(rpfs_worstcase_file, delimiter=',')\n",
    "df_rpfs_worstcase.drop(columns=['executionId','model','permutation'], inplace=True)\n",
    "# Stochastic PFSP (SimGRASP), including worst-case costs (budget)\n",
    "df_stoc = pd.read_csv(stoc_file, delimiter=',')"
   ]
  },
  {
   "cell_type": "markdown",
   "metadata": {},
   "source": [
    "**Robust dataframe: calculating new fields.**"
   ]
  },
  {
   "cell_type": "code",
   "execution_count": null,
   "metadata": {},
   "outputs": [],
   "source": [
    "df_rpfs['optimal'] = df_rpfs['is_optimal'] & df_rpfs['validated'] & (df_rpfs['gap'] <= 1e-8)\n",
    "df_rpfs['time_limit'] = 7200.0\n",
    "df_rpfs['time_limit_2'] = 7200.0 * 2\n",
    "df_rpfs['mp_total_time'] = (df_rpfs['n'] < 15).astype(int) * np.minimum(df_rpfs['mp_total_time'], df_rpfs['time_limit']) + (df_rpfs['n'] >= 15).astype(int) * np.minimum(df_rpfs['mp_total_time'], df_rpfs['time_limit_2'])\n",
    "df_rpfs['time'] = df_rpfs['mp_total_time'] + df_rpfs['sp_total_time']\n",
    "df_rpfs['gap'] = df_rpfs['gap'] * 100.0\n",
    "df_rpfs['RobCost_worstcase'] = df_rpfs['wct_validation']\n",
    "df_rpfs = df_rpfs.rename(columns={\"budget_Gamma\": \"RobCost_Gamma\"})\n",
    "df_rpfs.head(2)"
   ]
  },
  {
   "cell_type": "code",
   "execution_count": null,
   "metadata": {},
   "outputs": [],
   "source": [
    "df_rpfs.info()"
   ]
  },
  {
   "cell_type": "markdown",
   "metadata": {},
   "source": [
    "### Obtaining the Robust PFSP Budget robust costs (worst-case scenarios) for all RPFS solutions\n",
    "\n",
    "For all combinations of Gamma."
   ]
  },
  {
   "cell_type": "code",
   "execution_count": null,
   "metadata": {},
   "outputs": [],
   "source": [
    "df_rpfs_worstcase.head(2)"
   ]
  },
  {
   "cell_type": "code",
   "execution_count": null,
   "metadata": {},
   "outputs": [],
   "source": [
    "df_rpfs_worstcase['RobCost_Gamma'] = df_rpfs_worstcase['GammaPercRobustCost']\n",
    "df_rpfs_worstcase['RobCost_worstcase'] = df_rpfs_worstcase['RobustCost']\n",
    "df_rpfs_worstcase['GammaPerc'] = 100 * df_rpfs_worstcase['Gamma'] / (df_rpfs_worstcase['m'] * df_rpfs_worstcase['n'])\n",
    "df_rpfs_worstcase['GammaPerc'] = df_rpfs_worstcase['GammaPerc'].astype(int)\n",
    "df_rpfs_worstcase.head(2)"
   ]
  },
  {
   "cell_type": "code",
   "execution_count": null,
   "metadata": {},
   "outputs": [],
   "source": [
    "df_rpfs_robustcost = df_rpfs_worstcase.copy()\n",
    "rpfs_columns = ['n', 'm', 'alpha', 'instance_name', 'GammaPerc'] # , 'RobCost_Gamma']\n",
    "df_rpfs_robustcost = df_rpfs_robustcost.sort_values(rpfs_columns)\n",
    "df_rpfs_robustcost"
   ]
  },
  {
   "cell_type": "markdown",
   "metadata": {},
   "source": [
    "### Analyzing the stochastic solutions dataframe (SimGRASP) "
   ]
  },
  {
   "cell_type": "code",
   "execution_count": null,
   "metadata": {},
   "outputs": [],
   "source": [
    "df_stoc.info()"
   ]
  },
  {
   "cell_type": "code",
   "execution_count": null,
   "metadata": {},
   "outputs": [],
   "source": [
    "with pd.option_context('display.max_columns', None):\n",
    "    display(df_stoc.head(2))"
   ]
  },
  {
   "cell_type": "raw",
   "metadata": {},
   "source": [
    "stoc_columns = ['simgrasp_instance', 'n', 'm', 'nehtdist', 'beta1', 'beta2', 'rob_pfsp_instance', 'alpha', 'seq']\n",
    "df_stoc = df_stoc[df_stoc['stochsol_exp_cost'] == df_stoc.groupby(stoc_columns)['stochsol_exp_cost']\n",
    "                                                                                  .transform('min')]\n",
    "with pd.option_context('display.max_columns', None):\n",
    "    display(df_stoc)"
   ]
  },
  {
   "cell_type": "markdown",
   "metadata": {},
   "source": [
    "### Obtaining the Robust PFSP Budget robust costs (worst-case scenarios) for all SimGRASP solutions"
   ]
  },
  {
   "cell_type": "code",
   "execution_count": null,
   "metadata": {},
   "outputs": [],
   "source": [
    "df_stoc['instance_name'] = df_stoc['instance_filename']\n",
    "\n",
    "df_ssgrasp = df_stoc.copy()\n",
    "df_ssgrasp['RobCost_Gamma'] = df_ssgrasp['GammaPercRobustCost']\n",
    "df_ssgrasp['RobCost_worstcase'] = df_ssgrasp['RobustCost']\n",
    "df_ssgrasp"
   ]
  },
  {
   "cell_type": "markdown",
   "metadata": {},
   "source": [
    "Notice we have 25 executions for each instance file (and respective alpha parameter). For result comparison, we will need one worstcase cost per instance and budget_Gamma. For now, we will group by instance file in order to obtain the smallest and largest worstcase costs found after 25 SimGRASP executions. We will call them `Min(25)` and `Max(25)`. "
   ]
  },
  {
   "cell_type": "code",
   "execution_count": null,
   "metadata": {},
   "outputs": [],
   "source": [
    "#df_ssgrasp_min_worstcost = df_ssgrasp.groupby(['n', 'm', 'alpha', 'instance_name', 'stochsol_exp_cost', 'stochsol_time', \n",
    "#                                               'RobCost_Gamma']).min()\n",
    "ssgrasp_columns = ['n', 'm', 'alpha', 'instance_name', 'RobCost_Gamma']\n",
    "df_ssgrasp_min_worstcost = df_ssgrasp[df_ssgrasp['RobCost_worstcase'] == df_ssgrasp.groupby(ssgrasp_columns)['RobCost_worstcase']\n",
    "                                                                                  .transform('min')]\n",
    "df_ssgrasp_min_worstcost = df_ssgrasp_min_worstcost.sort_values(ssgrasp_columns).drop_duplicates(ssgrasp_columns)\n",
    "df_ssgrasp_max_worstcost = df_ssgrasp[df_ssgrasp['RobCost_worstcase'] == df_ssgrasp.groupby(ssgrasp_columns)['RobCost_worstcase']\n",
    "                                                                                  .transform('max')]\n",
    "df_ssgrasp_max_worstcost = df_ssgrasp_max_worstcost.sort_values(ssgrasp_columns).drop_duplicates(ssgrasp_columns)\n",
    "\n",
    "display(df_ssgrasp_min_worstcost.tail(4))\n",
    "display(df_ssgrasp_max_worstcost.tail(4))"
   ]
  },
  {
   "cell_type": "raw",
   "metadata": {},
   "source": [
    "df_ssgrasp_min_worstcost[(df_ssgrasp_min_worstcost['instance_name'] == 'RB0101001.txt')]"
   ]
  },
  {
   "cell_type": "markdown",
   "metadata": {},
   "source": [
    "# Tables"
   ]
  },
  {
   "cell_type": "markdown",
   "metadata": {},
   "source": [
    "## Table 4. Robust price and hedge value - TODO"
   ]
  },
  {
   "cell_type": "markdown",
   "metadata": {},
   "source": [
    "**Note:** the data generated in this Table depends on a post-processing with the Julia script: ``src/julia/experiment/wct/calculate_cmax_of_2rpfs_solution_given_nominal_P_bar.jl``"
   ]
  },
  {
   "cell_type": "code",
   "execution_count": null,
   "metadata": {},
   "outputs": [],
   "source": [
    "df_det_d0 = df_dpfs[(df_dpfs['perc_deviation_p_bar'] == 0)]\n",
    "df_det_hedge = df_det_d0.copy()\n",
    "df_2rpfs_hedge = df_rpfs_wagner.copy()"
   ]
  },
  {
   "cell_type": "code",
   "execution_count": null,
   "metadata": {},
   "outputs": [],
   "source": [
    "join_columns = ['n', 'm', 'alpha', 'instance_name', 'RobCost_Gamma1', 'RobCost_Gamma2']"
   ]
  },
  {
   "cell_type": "code",
   "execution_count": null,
   "metadata": {},
   "outputs": [],
   "source": [
    "df_det_hedge = df_det_hedge.rename(columns={\"cmax_star\": \"Cmax_sigma_det_star\", \"RobCost_worstcase\": \"RobCost_sigma_det_star\"})"
   ]
  },
  {
   "cell_type": "code",
   "execution_count": null,
   "metadata": {},
   "outputs": [],
   "source": [
    "df_det_hedge = df_det_hedge[join_columns + ['Cmax_sigma_det_star', 'RobCost_sigma_det_star']]"
   ]
  },
  {
   "cell_type": "code",
   "execution_count": null,
   "metadata": {},
   "outputs": [],
   "source": [
    "df_2rpfs_hedge = df_2rpfs_hedge.rename(columns={'cmax_dp': 'RobCost_sigma_rob_star', \n",
    "                                                'cmax_nominal': 'Cmax_nominal_sigma_rob'})"
   ]
  },
  {
   "cell_type": "code",
   "execution_count": null,
   "metadata": {},
   "outputs": [],
   "source": [
    "df_2rpfs_hedge = df_2rpfs_hedge[join_columns + ['RobCost_sigma_rob_star', 'Cmax_nominal_sigma_rob', 'seq']]"
   ]
  },
  {
   "cell_type": "code",
   "execution_count": null,
   "metadata": {},
   "outputs": [],
   "source": [
    "df_det_rob = pd.merge(df_det_hedge, df_2rpfs_hedge, how='inner', on=join_columns)"
   ]
  },
  {
   "cell_type": "code",
   "execution_count": null,
   "metadata": {},
   "outputs": [],
   "source": [
    "df_det_rob.head()"
   ]
  },
  {
   "cell_type": "code",
   "execution_count": null,
   "metadata": {},
   "outputs": [],
   "source": [
    "df_det_rob['eta'] = df_det_rob['Cmax_nominal_sigma_rob'] - df_det_rob['Cmax_sigma_det_star']"
   ]
  },
  {
   "cell_type": "code",
   "execution_count": null,
   "metadata": {},
   "outputs": [],
   "source": [
    "df_det_rob['H'] = df_det_rob['RobCost_sigma_det_star'] - df_det_rob['RobCost_sigma_rob_star']"
   ]
  },
  {
   "cell_type": "code",
   "execution_count": null,
   "metadata": {},
   "outputs": [],
   "source": [
    "df_det_rob.head(25)"
   ]
  },
  {
   "cell_type": "code",
   "execution_count": null,
   "metadata": {},
   "outputs": [],
   "source": [
    "df_det_rob.to_csv(os.path.join(outputfolder_table, '2rpfs_robustprice_hedge.csv'), sep=';')"
   ]
  },
  {
   "cell_type": "code",
   "execution_count": null,
   "metadata": {},
   "outputs": [],
   "source": [
    "#df_det_rob[df_det_rob['instance_name'] == 'RB0205010.txt']  # 'RB2005010.txt', 'RB1502008.txt'\n",
    "df_ = df_det_rob[(df_det_rob['n'] == 150) & (df_det_rob['seq'] == 8)]\n",
    "piv = pd.pivot_table(df_, columns=['n', 'seq', 'RobCost_Gamma1', 'RobCost_Gamma2', 'alpha'], values=['eta', 'H'],\n",
    "                       aggfunc={'eta' : ['mean'], 'H' : 'mean'})  # , margins=True, fill_value=0)\n",
    "piv.to_csv(os.path.join(outputfolder_table, '2rpfs_robustprice_hedge_test.csv'), sep=';')"
   ]
  },
  {
   "cell_type": "code",
   "execution_count": null,
   "metadata": {},
   "outputs": [],
   "source": [
    "df_det_d0[(df_det_d0['n'] == 150) & (df_det_d0['instance_name'] == 'RB1502008.txt')]"
   ]
  },
  {
   "cell_type": "code",
   "execution_count": null,
   "metadata": {},
   "outputs": [],
   "source": []
  },
  {
   "cell_type": "code",
   "execution_count": null,
   "metadata": {},
   "outputs": [],
   "source": []
  },
  {
   "cell_type": "code",
   "execution_count": null,
   "metadata": {},
   "outputs": [],
   "source": [
    "df_grouped = df_rpfs_wagner.groupby(['alpha', 'n', 'm', 'RobCost_Gamma']).agg({'cmax_dp' : ['count']}).reset_index()\n",
    "df_grouped.columns = [ ' '.join(str(i) for i in col) for col in df_grouped.columns]\n",
    "#df_grouped.reset_index(inplace=True)\n",
    "df_grouped"
   ]
  },
  {
   "cell_type": "raw",
   "metadata": {},
   "source": [
    "table = pd.pivot_table(df_rpfs_wagner, values='cmax_dp', index=['alpha', 'n'], columns=['RobCost_Gamma1', 'RobCost_Gamma2'], aggfunc='count', fill_value=0)\n",
    "with pd.option_context('display.max_rows', None, 'display.max_columns', None): \n",
    "    display(table)"
   ]
  },
  {
   "cell_type": "markdown",
   "metadata": {},
   "source": [
    "# Graphs"
   ]
  },
  {
   "cell_type": "code",
   "execution_count": null,
   "metadata": {},
   "outputs": [],
   "source": [
    "join_columns = ['n', 'm', 'alpha', 'instance_name', 'Gamma']"
   ]
  },
  {
   "cell_type": "code",
   "execution_count": null,
   "metadata": {},
   "outputs": [],
   "source": [
    "def plot_worstcase_comparison(n, instance_name, palette, df_dict, prefix, suffix, enable_markers=True):\n",
    "    # https://seaborn.pydata.org/tutorial/aesthetics.html\n",
    "    concat_columns = ['instance_name', 'RobCost_Gamma', 'RobCost_worstcase']\n",
    "    for key, df_i in df_dict.items():\n",
    "        df_i = df_i[concat_columns]\n",
    "        df_i['Method'] = key\n",
    "        df_dict[key] = df_i\n",
    "    df = pd.concat(df_dict.values())\n",
    "    ###df = df[(df['instance_name'] == instance_name)]\n",
    "    #df['RobCost_Gamma'] = (df['RobCost_Gamma']).map(int)\n",
    "    df['budget_f'] = df['RobCost_Gamma'].map(str)\n",
    "    # https://www.drawingfromdata.com/setting-figure-size-using-seaborn-and-matplotlib\n",
    "    #fig, ax = plt.subplots()\n",
    "    # the size of A4 paper\n",
    "    #fig.set_size_inches(11.7, 8.27)\n",
    "    markers = None\n",
    "    linestyles = None\n",
    "    if enable_markers:\n",
    "        marker = ['*', '+', 'o', 'x', '^', '8', 's', 'p', 'D',  '*', '+', 'o', 'x', '^', '8', 's', 'p', 'D']\n",
    "        marker = marker[::-1]\n",
    "        markers = [marker[i] for i in range(len(df[\"Method\"].unique()))]\n",
    "        linestyle = ['--', '-.', ':', 'dashed', 'dashdot', 'dotted', 'solid', '-', '-.',    '--', '-.', ':', 'dashed', 'dashdot', 'dotted', 'solid', '-', '-.']\n",
    "        linestyles = [linestyle[i] for i in range(len(df[\"Method\"].unique()))]\n",
    "    width = 12\n",
    "    height = 24\n",
    "    a4_dims = (width, height)  # 8.27)\n",
    "    plt.figure(figsize=a4_dims)\n",
    "    with sns.axes_style(\"whitegrid\"):\n",
    "        sns.set_context(\"paper\", font_scale=1.2, rc={\"grid.linewidth\": 2})\n",
    "        if enable_markers:\n",
    "            g = sns.catplot(x=\"budget_f\", y=\"RobCost_worstcase\", linestyles=linestyles, markers=markers,\n",
    "                            #dashes=[linestyle_tuple[i][1][1] for i in range(len(linestyle_tuple))],\n",
    "                     hue=\"Method\", kind=\"point\", style=\"Method\", \n",
    "                     data=df,\n",
    "                     height=height, aspect=width/height,\n",
    "                     #height=5, # make the plot 5 units high\n",
    "                     #aspect=3,  # 3  # height should be three times width\n",
    "                     legend=False, palette=palette)\n",
    "        else:\n",
    "            g = sns.catplot(x=\"budget_f\", y=\"RobCost_worstcase\", \n",
    "                     hue=\"Method\", kind=\"point\", style=\"Method\", \n",
    "                     data=df,\n",
    "                     height=height, aspect=width/height,\n",
    "                     #height=5, # make the plot 5 units high\n",
    "                     #aspect=3,  # height should be three times width\n",
    "                     legend=False, palette=palette)\n",
    "        plt.legend(loc='lower right')\n",
    "        # Remove the '.txt' at the end of instance_name\n",
    "        instance_name = instance_name[:instance_name.rfind('.txt')]\n",
    "        g.set_axis_labels(r'Protection level $\\Gamma$ (%)', r'Robust cost : $Z(\\sigma)$')\n",
    "        plt.grid(which='major', axis='x')\n",
    "        plt.grid(which='minor', axis='y')\n",
    "        # ============== Special trick to make the suptitle with large backgrounds\n",
    "        # register the custom style\n",
    "        BoxStyle._style_list[\"ext\"] = ExtendedTextBox\n",
    "        title = plt.suptitle(prefix + ' Instance ' + instance_name + ' ' + suffix, fontsize=14, fontweight='bold', \n",
    "                             position=(.5, 1.04), backgroundcolor='#d3d3d3', color='black')\n",
    "        # set the box style of the title text box to our custom box\n",
    "        bb = title.get_bbox_patch()\n",
    "        fig = g.fig\n",
    "        def resize(event):\n",
    "            # use the figure width as width of the text box \n",
    "            bb.set_boxstyle(\"ext\", pad=0.4, width=fig.get_size_inches()[0]*fig.dpi )\n",
    "        resize(None)\n",
    "        # =========================================================================\n",
    "        plt.show()\n",
    "        g.savefig(os.path.join(outputfolder_graph, 'worstcase_{}.pdf'.format(instance_name)))\n",
    "        #g.savefig(os.path.join(outputfolder_graph, 'worstcase_{}.pgf'.format(instance_name)))"
   ]
  },
  {
   "cell_type": "markdown",
   "metadata": {},
   "source": [
    "### Worstcase cost : Small Uncertainty Range Instance - Example "
   ]
  },
  {
   "cell_type": "markdown",
   "metadata": {},
   "source": [
    "instance_2_9_4_wct_inputs.txt with alpha_max == 100%"
   ]
  },
  {
   "cell_type": "raw",
   "metadata": {},
   "source": [
    "filename = 'RB0102005.txt'\n",
    "df_2rpfs_robustcost[(df_2rpfs_robustcost['instance_name'] == filename) & (df_2rpfs_robustcost['RobCost_Gamma'] == '20 60')].sort_values(['RobCost_worstcase'])"
   ]
  },
  {
   "cell_type": "code",
   "execution_count": null,
   "metadata": {
    "scrolled": true
   },
   "outputs": [],
   "source": [
    "filename = 'instance_9_4_R100_wct_inputs.txt'  # 'instance_2_9_4_wct_inputs.txt'\n",
    "simgrasp_filename = 'instance_2_9_4_wct_inputs.txt'\n",
    "result_dict = dict()\n",
    "include_list = [10, 30, 40, 50, 100]  # 50 == 60 == ... == 100, and 10 == 20\n",
    "df_ = df_rpfs_robustcost[(df_rpfs_robustcost['instance_name'] == filename)].sort_values(['RobCost_worstcase'])\n",
    "for gamma in [0, 10, 20, 30, 40, 50, 60, 70, 80, 90, 100]:\n",
    "    if gamma == 0:\n",
    "        label = 'Det'\n",
    "    else:\n",
    "        label = 'RPFS({})'.format(gamma)\n",
    "    if gamma in include_list:\n",
    "        result_dict[label] = df_[(df_['GammaPerc'] == gamma)]\n",
    "result_dict['SimGRASP-Min(25)'] = df_ssgrasp_min_worstcost[df_ssgrasp_min_worstcost['instance_name'] == simgrasp_filename]\n",
    "result_dict['SimGRASP-Max(25)'] = df_ssgrasp_max_worstcost[df_ssgrasp_max_worstcost['instance_name'] == simgrasp_filename]\n",
    "#display(result_dict['SimGRASP-Max(25)'])\n",
    "plot_worstcase_comparison(n, filename, 'Set1_r', result_dict, r'$(a)$', '', enable_markers=True)  # Set1, hsv"
   ]
  },
  {
   "cell_type": "markdown",
   "metadata": {},
   "source": [
    "#### Now let's check that, except for Rob(40), all robust solutions shown above have the same value, regardless of RobCost_Gamma"
   ]
  },
  {
   "cell_type": "code",
   "execution_count": null,
   "metadata": {},
   "outputs": [],
   "source": [
    "df_ = df_rpfs_robustcost[(df_rpfs_robustcost['instance_name'] == filename)]\n",
    "df_['budget_Gamma'] = df_['Gamma'].astype(str)\n",
    "with pd.option_context('display.max_rows', None, 'display.max_columns', None): \n",
    "    display(df_[df_['budget_Gamma'].isin(['60', '20', '80', '40', '100'])].sort_values(['RobCost_Gamma']))"
   ]
  },
  {
   "cell_type": "markdown",
   "metadata": {},
   "source": [
    "### Worstcase cost : Large Uncertainty Range Instance - Example "
   ]
  },
  {
   "cell_type": "markdown",
   "metadata": {},
   "source": [
    "instance_1_15_5_wct_inputs.txt"
   ]
  },
  {
   "cell_type": "code",
   "execution_count": null,
   "metadata": {},
   "outputs": [],
   "source": [
    "filename = 'instance_15_5_R50_wct_inputs.txt'\n",
    "simgrasp_filename = 'instance_1_15_5_wct_inputs.txt'\n",
    "n = 150\n",
    "result_dict = dict()\n",
    "include_list = [0, 10, 20, 30, 40, 50, 60, 70, 90, 100]\n",
    "df_ = df_rpfs_robustcost[(df_rpfs_robustcost['instance_name'] == filename)]\n",
    "for gamma in [0, 10, 20, 30, 40, 50, 60, 70, 80, 90, 100]:\n",
    "    if gamma == 0:\n",
    "        label = 'Det'\n",
    "    else:\n",
    "        label = 'RPFS({})'.format(gamma)\n",
    "    if gamma in include_list:\n",
    "        result_dict[label] = df_[(df_['GammaPerc'] == gamma)]\n",
    "#result_dict['SimGRASP-Min(25)'] = df_ssgrasp_min_worstcost[df_ssgrasp_min_worstcost['instance_name'] == simgrasp_filename]\n",
    "#result_dict['SimGRASP-Max(25)'] = df_ssgrasp_max_worstcost[df_ssgrasp_max_worstcost['instance_name'] == simgrasp_filename]\n",
    "plot_worstcase_comparison(n, filename, 'hsv', result_dict, r'$(b)$', '', enable_markers=True)"
   ]
  },
  {
   "cell_type": "markdown",
   "metadata": {},
   "source": [
    "#### Now let's check which robust solutions shown above have the same value, regardless of RobCost_Gamma\n",
    "\n",
    "Before (RobCost_Gamma1, RobCost_Gamma2) = (60,20), robust solutions Rob(20,60) and Rob(40,80) are almost equivalent. They present the same robust costs, except when (RobCost_Gamma1, RobCost_Gamma2) = (20,40). \n"
   ]
  },
  {
   "cell_type": "code",
   "execution_count": null,
   "metadata": {},
   "outputs": [],
   "source": [
    "df_ = df_rpfs_robustcost[(df_rpfs_robustcost['instance_name'] == filename)]\n",
    "df_['budget_Gamma'] = df_['Gamma'].astype(str)\n",
    "with pd.option_context('display.max_rows', None, 'display.max_columns', None):\n",
    "    display(df_[df_['budget_Gamma'].isin(['60', '80'])].sort_values(['RobCost_Gamma']))"
   ]
  },
  {
   "cell_type": "markdown",
   "metadata": {},
   "source": [
    "After (RobCost_Gamma1, RobCost_Gamma2) = (60,20) and beyond, all three robust solutions shown on the graph are equivalent (e.g. they present the same robust cost. "
   ]
  },
  {
   "cell_type": "code",
   "execution_count": null,
   "metadata": {},
   "outputs": [],
   "source": [
    "df_ = df_rpfs_robustcost[(df_rpfs_robustcost['instance_name'] == filename)]\n",
    "df_['budget_Gamma'] = df_['Gamma'].astype(str)\n",
    "with pd.option_context('display.max_rows', None, 'display.max_columns', None):\n",
    "    display(df_[df_['budget_Gamma'].isin(['40', '60', '80'])].sort_values(['RobCost_Gamma']))"
   ]
  },
  {
   "cell_type": "code",
   "execution_count": null,
   "metadata": {},
   "outputs": [],
   "source": [
    "def get_instance_solution_info(df_rpfs, instance_name):\n",
    "    return df_rpfs[(df_rpfs['instance_name'] == instance_name)][['Gamma', 'is_optimal', \n",
    "                                                                   'validated', 'gap', 'time', 'optimal']]"
   ]
  },
  {
   "cell_type": "raw",
   "metadata": {},
   "source": [
    "get_instance_solution_info(df_rpfs, 'RB1505002.txt')"
   ]
  },
  {
   "cell_type": "code",
   "execution_count": null,
   "metadata": {},
   "outputs": [],
   "source": []
  },
  {
   "cell_type": "code",
   "execution_count": null,
   "metadata": {},
   "outputs": [],
   "source": []
  },
  {
   "cell_type": "markdown",
   "metadata": {},
   "source": [
    "# Part 3. Plotting Monte Carlo Simulation results"
   ]
  },
  {
   "cell_type": "markdown",
   "metadata": {},
   "source": [
    "Simulations were undertaken for 3 probability distributions: lognormal, triangular and uniform."
   ]
  },
  {
   "cell_type": "code",
   "execution_count": null,
   "metadata": {},
   "outputs": [],
   "source": [
    "sim_results_folder_det_rob = os.path.join(os.path.abspath('..'), 'pfsp_experiments', 'montecarlo_sim_rpfs_twct')\n",
    "sim_results_folder_simgrasp = os.path.join(os.path.abspath('..'), 'pfsp_experiments', 'montecarlo_sim_rpfs_twct')\n",
    "sim_results_folder_ssgrasp = os.path.join(os.path.abspath('..'), 'pfsp_experiments', 'run_simgrasp_twct')\n",
    "print('[Det, Rob] Using simulation results folder: ', sim_results_folder_det_rob)\n",
    "print('[SimGRASP] Using simulation results folder: ', sim_results_folder_simgrasp)\n",
    "print('[SSGRASP] Using simulation results folder: ', sim_results_folder_ssgrasp)"
   ]
  },
  {
   "cell_type": "code",
   "execution_count": null,
   "metadata": {},
   "outputs": [],
   "source": [
    "def read_simulation_result_csv_to_series(filename):\n",
    "    #print('Reading file: ', filename)\n",
    "    df = pd.read_csv(filename, index_col=False, header=0, names=['TWCT'])\n",
    "    series = df['TWCT'] # here we convert the DataFrame into a Series\n",
    "    return series"
   ]
  },
  {
   "cell_type": "code",
   "execution_count": null,
   "metadata": {},
   "outputs": [],
   "source": [
    "def read_budget_simulation_results_to_series(root_folder, instance_name, alpha, distribution, gamma, num_iter=10000):\n",
    "    folder = os.path.join(root_folder, 'robust_pfsp', distribution, 'alpha{}%'.format(alpha))\n",
    "    filename = 'MCS_rob_{}_{}_{}_{}_iter{}.txt.gz'.format(gamma, instance_name, alpha, distribution, num_iter)\n",
    "    filepath = os.path.join(folder, filename)\n",
    "    return read_simulation_result_csv_to_series(filepath)"
   ]
  },
  {
   "cell_type": "code",
   "execution_count": null,
   "metadata": {},
   "outputs": [],
   "source": [
    "def read_deterministic_simulation_results_to_series(root_folder, instance_name, alpha, distribution, perc_variation, num_iter=10000):\n",
    "    folder = os.path.join(root_folder, 'deterministic_pfsp', distribution, 'alpha{}%'.format(alpha))\n",
    "    filename = 'MCS_det{}_{}_{}_{}_iter{}.txt.gz'.format(perc_variation, instance_name, alpha, distribution, num_iter)\n",
    "    filepath = os.path.join(folder, filename)\n",
    "    return read_simulation_result_csv_to_series(filepath)"
   ]
  },
  {
   "cell_type": "code",
   "execution_count": null,
   "metadata": {},
   "outputs": [],
   "source": [
    "def read_ssgrasp_raw_outputs_to_series(filepath):\n",
    "    with gzip.open(filepath, 'rt') as content_file:\n",
    "        content = content_file.read()\n",
    "        content = content[content.find('STOCH')+5:]\n",
    "        #content = content[content.find('DET')+3:content.find('STOCH')]\n",
    "        content = content.replace(\"\\n\", \"\")\n",
    "        s = pd.Series([float(x) for x in content.split()], name='TWCT')\n",
    "        #s.to_csv(os.path.join(os.getcwd(), \"temp.csv\"), index=False, header=0)\n",
    "        return s"
   ]
  },
  {
   "cell_type": "code",
   "execution_count": null,
   "metadata": {},
   "outputs": [],
   "source": [
    "def read_stochastic_simulation_results_to_series(root_folder, instance_name, alpha, distribution, raw=True, num_iter=10000):\n",
    "    if raw:  # RB0105001_10_2_t_1.0_0.1_124341_outputsList.txt\n",
    "        m = 2\n",
    "        n = int(instance_name[2:5])\n",
    "        grasp_instance_name = 'RB{}50{}'.format(instance_name[2:5], instance_name[7:9])\n",
    "        filename = '{}_{}_{}_t_{:.1f}_{:.1f}_*_outputsList.txt.gz'.format(grasp_instance_name, n, m, 1.0, alpha / 100)\n",
    "        files = glob.glob(os.path.join(root_folder, filename))\n",
    "        series_list = []\n",
    "        for filepath in files:\n",
    "            series_list.append(read_ssgrasp_raw_outputs_to_series(filepath))\n",
    "        result = pd.concat(series_list)\n",
    "        return result\n",
    "    else:\n",
    "        folder = os.path.join(root_folder, 'simgrasp', distribution, 'alpha{}%'.format(alpha))\n",
    "        filename = 'MCS_SimGRASP_{}_{}_{}_iter{}.txt.gz'.format(instance_name, alpha, distribution, num_iter)\n",
    "        filepath = os.path.join(folder, filename)\n",
    "        return read_simulation_result_csv_to_series(filepath)"
   ]
  },
  {
   "cell_type": "code",
   "execution_count": null,
   "metadata": {},
   "outputs": [],
   "source": [
    "def plot_violin_compare_distributions(df, instance_name, ax, seq, distribution, palette=\"Blues_d\"):\n",
    "    # https://towardsdatascience.com/violin-plots-explained-fb1d115e023d\n",
    "    #a4_dims = (11.7, 8.27)\n",
    "    #plt.figure(figsize=a4_dims)\n",
    "    with sns.axes_style(\"whitegrid\"):\n",
    "        #style.use('ggplot')\n",
    "        sns.set_context(\"paper\", rc={\"grid.linewidth\": 2, \"xtick.major.pad\": 11})  # font_scale=1.2, \n",
    "        ax = sns.violinplot(ax=ax,y=\"TWCT\", x=\"Method\",   # x=\"TWCT\", y=\"Method\", \n",
    "                               #hue=\"Method\", #kind=\"violin\", \n",
    "                               style=\"Method\", \n",
    "                     data=df, palette=palette, \n",
    "                     scale=\"area\", cut=0, inner='box', \n",
    "                     # width=0.8, showmeans=True, showextrema=True, showmedians=True\n",
    "                     height=10, # make the plot 5 units high\n",
    "                     aspect=2.5) # height should be three times width\n",
    "        ax.set_xticklabels(\n",
    "            ax.get_xticklabels(), \n",
    "            rotation=45, \n",
    "            #horizontalalignment='right',\n",
    "            fontweight='light',\n",
    "            fontsize='large'\n",
    "        )\n",
    "        # Set Background color: https://stackoverflow.com/questions/25238442/setting-plot-background-colour-in-seaborn\n",
    "        ax.set_facecolor('#f0f0f0')\n",
    "        instance_name = instance_name[:instance_name.rfind('.txt')]\n",
    "        ax.set_title('Simulation result from {} distribution'.format(distribution))\n",
    "        if seq == 0:\n",
    "            ax.set_ylabel('TWCT')\n",
    "        else:\n",
    "            ax.set_ylabel('')\n",
    "        ax.set_xlabel('Solution Method')\n",
    "        # Draw interval grid lines\n",
    "        ax.grid(which='major', axis='x')\n",
    "        ax.grid(which='minor', axis='y')\n",
    "        #plt.set_title('Instance '+instance_name)\n",
    "        #plt.show()\n",
    "        #ax.get_figure().savefig(os.path.join(outputfolder_graph, 'violin_{}.pdf'.format(instance_name)))\n",
    "        #display(sns.plotting_context())\n",
    "        #chart.savefig(os.path.join(outputfolder_graph, 'violin_{}.pgf'.format(instance_name)))"
   ]
  },
  {
   "cell_type": "code",
   "execution_count": null,
   "metadata": {},
   "outputs": [],
   "source": [
    "def plot_kde_compare_distributions(dict_s, instance_name, ax, seq, distribution, palette):\n",
    "    #a4_dims = (11.7, 8.27)\n",
    "    #plt.figure(figsize=a4_dims)\n",
    "    #print('Number os series to plot: ' + str(len(dict_s.keys())))\n",
    "    marker = ['*', '+', 'o', 'x', '^', '8', 's', 'p', 'D', 'V', 'A', 'T'] + ['*', '+', 'o', 'x', '^', '8', 's', 'p', 'D', 'V', 'A', 'T']\n",
    "    markers = [marker[i] for i in range(len(dict_s.keys()))]\n",
    "    linestyle = ['--', '-.', ':', 'dashed', 'dashdot', 'dotted', 'solid', '-', ' ', '', 'None'] + ['--', '-.', ':', 'dashed', 'dashdot', 'dotted', 'solid', '-', ' ', '', 'None']\n",
    "    # New line styles > 12\n",
    "    # https://stackoverflow.com/questions/33337989/how-to-draw-more-type-of-lines-in-matplotlib/33338727\n",
    "    linestyles = [linestyle[i] for i in range(len(dict_s.keys()))]\n",
    "    with sns.axes_style(\"whitegrid\"):\n",
    "        #style.use('ggplot')\n",
    "        #sns.set_style(\"whitegrid\")\n",
    "        sns.set(style=\"white\", palette=palette) #, color_codes=True)\n",
    "        #sns.set_palette(palette, 9, 0.8)\n",
    "        sns.set_context(\"notebook\", rc={\"grid.linewidth\": 2, \"xtick.major.pad\": 11})  # font_scale=1.2, \n",
    "        i = 0\n",
    "        for method, series in dict_s.items():\n",
    "            chart = sns.distplot(series, label=method, kde=True, hist=False, ax=ax, \n",
    "                         vertical=False, kde_kws=dict(ls=linestyle[i],dashes=linestyle_tuple[i][1][1]))  \n",
    "            # markers=markers, \n",
    "            i += 1\n",
    "        # Set Background color: https://stackoverflow.com/questions/25238442/setting-plot-background-colour-in-seaborn\n",
    "        #chart.set_facecolor('#ffffff')\n",
    "        ax.set_title('Simulation result from {} distribution'.format(distribution))\n",
    "        ax.legend(loc='upper right', bbox_to_anchor=(1.10, 1.0), ncol=1)\n",
    "        all_fonts_size = 12\n",
    "        if seq == 0:\n",
    "            ax.set_ylabel('Probability Distribution', fontsize=all_fonts_size)\n",
    "        ax.set_xlabel('TWCT', fontsize=all_fonts_size)\n",
    "        ax.tick_params(labelsize=all_fonts_size)\n",
    "        ax.grid(which='major', axis='x')\n",
    "        ax.grid(which='minor', axis='y')\n",
    "        #plt.show()\n",
    "        #chart.get_figure().savefig(os.path.join(outputfolder_graph, 'kde_{}.pdf'.format(instance_name)))\n",
    "        #chart.savefig(os.path.join(outputfolder_graph, 'kde_{}.pgf'.format(instance_name)))"
   ]
  },
  {
   "cell_type": "code",
   "execution_count": null,
   "metadata": {},
   "outputs": [],
   "source": [
    "def plot_simulation_comparison(n, m, sim_results_folder_det_rob, sim_results_folder_simgrasp, instance_name, \n",
    "                               simgrasp_instance_name, instance_title, \n",
    "                               prefix, suffix, \n",
    "                               palette, include_list=[], graph_type=\"violin\", num_iter=10000):\n",
    "    # https://towardsdatascience.com/violin-plots-explained-fb1d115e023d\n",
    "    a4_dims = (15, 5)\n",
    "    #plt.figure(figsize=a4_dims)\n",
    "    fig, axs = plt.subplots(1, 3, sharey=True, figsize=a4_dims)\n",
    "    #sns.set_style(\"whitegrid\")\n",
    "    for d, distribution in enumerate(['lognormal', 'uniform', 'triangular']):\n",
    "        ###alpha = int(instance_name[5:7])\n",
    "        alpha = 100\n",
    "        simulated_solutions_dict = dict()\n",
    "        \n",
    "        for gamma_perc in [0, 10, 20, 30, 40, 50, 60, 70, 80, 90, 100]:\n",
    "            if gamma_perc == 0:\n",
    "                label = 'Det'\n",
    "            else:\n",
    "                label = 'RPFS({})'.format(gamma_perc)\n",
    "            gamma = gamma_perc * m * n / 100.0\n",
    "            simulated_solutions_dict[label] = read_budget_simulation_results_to_series(\n",
    "                                                                                sim_results_folder_det_rob, \n",
    "                                                                                filename, alpha, distribution, gamma,\n",
    "                                                                                num_iter=num_iter)\n",
    "        #simulated_solutions_dict['SimGRASP(MCS_Java)'] = read_stochastic_simulation_results_to_series(sim_results_folder_ssgrasp, \n",
    "        #                                                                                    instance_name, alpha, \n",
    "        #                                                                                    distribution, True)\n",
    "        simulated_solutions_dict['SimGRASP'] = read_stochastic_simulation_results_to_series(sim_results_folder_simgrasp, \n",
    "                                                                                            simgrasp_instance_name, 100, \n",
    "                                                                                            distribution, False,\n",
    "                                                                                            num_iter=num_iter)\n",
    "        df_list = []\n",
    "        filtered_solutions_dict = dict()\n",
    "        for key, s_i in simulated_solutions_dict.items():\n",
    "            df_i = s_i.to_frame()\n",
    "            df_i['Method'] = key\n",
    "            df_i['Distribution'] = distribution\n",
    "            if key in include_list:\n",
    "                df_list.append(df_i)\n",
    "                filtered_solutions_dict[key] = s_i\n",
    "        df = pd.concat(df_list)\n",
    "        if graph_type == 'violin':\n",
    "            plot_violin_compare_distributions(df, instance_name, axs[d], d, distribution, palette=palette)\n",
    "        else:  # kde plot\n",
    "            plot_kde_compare_distributions(filtered_solutions_dict, instance_name, axs[d], d, distribution, palette=palette)\n",
    "        #axs[d].yaxis.tick_right()\n",
    "    plt.subplots_adjust(wspace=0.1, hspace=0.1)\n",
    "    instance_name = instance_name[:instance_name.rfind('.txt')]\n",
    "    # ============== Special trick to make the suptitle with large backgrounds\n",
    "    # register the custom style\n",
    "    BoxStyle._style_list[\"ext\"] = ExtendedTextBox\n",
    "    title = plt.suptitle(prefix + ' Instance ' + instance_title + ' ' + suffix, fontsize=12, fontweight='bold', \n",
    "                         position=(.5, 0.99), backgroundcolor='#d3d3d3', color='black')\n",
    "    # set the box style of the title text box to our custom box\n",
    "    bb = title.get_bbox_patch()\n",
    "    def resize(event):\n",
    "        # use the figure width as width of the text box \n",
    "        bb.set_boxstyle(\"ext\", pad=0.4, width=fig.get_size_inches()[0]*fig.dpi )\n",
    "    resize(None)\n",
    "    # =========================================================================\n",
    "    if graph_type == 'violin':\n",
    "        fig.savefig(os.path.join(outputfolder_graph, 'violinplot_{}.pdf'.format(instance_name)))\n",
    "    else:  # kde plot\n",
    "        fig.savefig(os.path.join(outputfolder_graph, 'kdeplot_{}.pdf'.format(instance_name)))"
   ]
  },
  {
   "cell_type": "markdown",
   "metadata": {},
   "source": [
    "### Expected cost : Small Uncertainty Range Instance - Example "
   ]
  },
  {
   "cell_type": "markdown",
   "metadata": {},
   "source": [
    "instance_2_9_4_wct_inputs.txt"
   ]
  },
  {
   "cell_type": "markdown",
   "metadata": {},
   "source": [
    "TODO Traçar uma linha dentro do gráfico do violin plot, demarcando o valor do worst-case TWCT (dado pelo robusto)"
   ]
  },
  {
   "cell_type": "markdown",
   "metadata": {},
   "source": [
    "Agora vamos traçar um gráfico de KDE com a distribuição de valores de cada simulação."
   ]
  },
  {
   "cell_type": "code",
   "execution_count": null,
   "metadata": {},
   "outputs": [],
   "source": [
    "filename = 'instance_9_4_R30_wct_inputs.txt'\n",
    "simgrasp_filename = 'instance_2_9_4_wct_inputs.txt'\n",
    "all_gamma = [10, 20, 30, 40, 50, 60, 70, 80, 90, 100]\n",
    "include_list = ['Det', 'SimGRASP'] + ['RPFS({})'.format(_) for _ in all_gamma]\n",
    "plot_simulation_comparison(9, 4, sim_results_folder_det_rob, sim_results_folder_det_rob, filename, simgrasp_filename,\n",
    "                           '9x4', r'$(a)$', '',\n",
    "                           graph_type='kde',\n",
    "                           include_list=include_list,\n",
    "                           palette='Paired_r') # Dark2, Set3"
   ]
  },
  {
   "cell_type": "markdown",
   "metadata": {},
   "source": [
    "**Analysis:** \n",
    "\n",
    "Regarding the small uncertainty instance, the expected TWCT performance of 2RPFS(40,60), as well as 2RPFS(40,80), 2RPFS(60,40), 2RPFS(80,40) and 2RPFS(80,80), are really good, equivalent to SimGRASP. However, the protection against worst-case scenarios vary considerably, according to the budget parameters. The best performing solutions, from smallest to largest robust cost, are: 2RPFS(80,40), 2RPFS(60,40), SimGRASP-Min(25), 2RPFS(40,60), 2RPFS(40,80) and 2RPFS(80,80). \n",
    "%, protect much more against worst-case costs. \n",
    "In particular, even though 2RPFS(40,20) has very good expected TWCT values, its $\\Gamma$ parameter combination does not offer the best protection against worst-case costs, when compared to other robust solutions. "
   ]
  },
  {
   "cell_type": "markdown",
   "metadata": {},
   "source": [
    "### Expected cost : Large Uncertainty Range Instance - Example "
   ]
  },
  {
   "cell_type": "markdown",
   "metadata": {},
   "source": [
    "instance_15_5_R30_wct_inputs"
   ]
  },
  {
   "cell_type": "code",
   "execution_count": null,
   "metadata": {
    "scrolled": true
   },
   "outputs": [],
   "source": [
    "filename = 'instance_15_5_R30_wct_inputs.txt'\n",
    "simgrasp_filename = 'instance_1_15_5_wct_inputs.txt'\n",
    "all_gamma = [10, 20, 30, 40, 50, 60, 90, 100]  # 70, 80, \n",
    "include_list = ['Det', 'SimGRASP'] + ['RPFS({})'.format(_) for _ in all_gamma]\n",
    "plot_simulation_comparison(15, 5, sim_results_folder_det_rob, sim_results_folder_det_rob, filename, simgrasp_filename, \n",
    "                           '15x5', r'$(b)$', '',\n",
    "                           graph_type='kde',\n",
    "                          include_list=include_list,\n",
    "                          palette='Paired_r')   # Paired, hsv, ***Set1"
   ]
  },
  {
   "cell_type": "markdown",
   "metadata": {},
   "source": [
    "When analyzing the large uncertainty instance, several robust solutions present expected TWCT performance quite similar to SimGRASP: 2RPFS(40,20), 2RPFS(40,40), 2RPFS(60,40), 2RPFS(60,60) and 2RPFS(100,80). However, only the first four provide better protection against worst-case costs. Even though 2RPFS(100,80) presents very good expected TWCT values, its robust costs (worst-case performance) is suboptimal for several values of $\\Gamma_{1}$ and $\\Gamma_{2}$, as can be seen in Figure x(b), from the previous analysis. \n",
    "In the present graph, we also include the results from the solution method with the highest expected TWCT value: Rob(20,80). "
   ]
  },
  {
   "cell_type": "markdown",
   "metadata": {},
   "source": [
    "# Monte Carlo Simulation results - Summary table"
   ]
  },
  {
   "cell_type": "code",
   "execution_count": null,
   "metadata": {},
   "outputs": [],
   "source": [
    "def percentile(n):\n",
    "    def percentile_(x):\n",
    "        return np.percentile(x, n)\n",
    "    percentile_.__name__ = 'percentile_%s' % n\n",
    "    return percentile_"
   ]
  },
  {
   "cell_type": "code",
   "execution_count": null,
   "metadata": {},
   "outputs": [],
   "source": [
    "def table_simulation_comparison(n, m, sim_results_folder_det_rob, sim_results_folder_ssgrasp, instance_name, \n",
    "                                simgrasp_instance_name, \n",
    "                                prefix, suffix, \n",
    "                                save_csv=False, include_results=None, num_iter=10000):\n",
    "    grouped_df_list = []\n",
    "    grouped_df_list_tableau = []\n",
    "    for d, distribution in enumerate(['lognormal','normal', 'uniform', 'triangular']):\n",
    "        ###alpha = int(instance_name[5:7])\n",
    "        alpha = 100\n",
    "        simulated_solutions_dict = dict()\n",
    "        for gamma_perc in [0, 10, 20, 30, 40, 50, 60, 70, 80, 90, 100]:\n",
    "            if gamma_perc == 0:\n",
    "                label = 'Det'\n",
    "            else:\n",
    "                label = 'RPFS({})'.format(gamma_perc)\n",
    "            gamma = gamma_perc * m * n / 100.0\n",
    "            simulated_solutions_dict[(label, gamma)] = read_budget_simulation_results_to_series(\n",
    "                                                                            sim_results_folder_det_rob, \n",
    "                                                                            instance_name, alpha, distribution, gamma,\n",
    "                                                                            num_iter=num_iter)\n",
    "        simulated_solutions_dict[('SimGRASP', 200, 200)] = read_stochastic_simulation_results_to_series(sim_results_folder_simgrasp, \n",
    "                                                                                            simgrasp_instance_name, alpha, \n",
    "                                                                                            distribution, False,\n",
    "                                                                                            num_iter=num_iter)\n",
    "        #simulated_solutions_dict[('SimGRASP(MCS_Java)', 200, 200)] = read_stochastic_simulation_results_to_series(sim_results_folder_ssgrasp, \n",
    "        #                                                                                    instance_name, alpha, \n",
    "        #                                                                                    distribution, True)\n",
    "        df_list = []\n",
    "        filtered_solutions_dict = dict()\n",
    "        for key, s_i in simulated_solutions_dict.items():\n",
    "            df_i = s_i.to_frame()\n",
    "            df_i['Method'] = key[0]\n",
    "            df_i['Gamma'] = key[1]\n",
    "            df_i['Distribution'] = distribution\n",
    "            if include_results is None or key[0] in include_results:\n",
    "                df_list.append(df_i)\n",
    "                filtered_solutions_dict[key] = s_i\n",
    "        df = pd.concat(df_list)\n",
    "        df_grouped = df.copy()\n",
    "        df_grouped = df_grouped.groupby(['Method', 'Distribution']).agg({'TWCT':[np.mean, np.std, np.max, percentile(95), \\\n",
    "                                                                             percentile(99), 'count']})\n",
    "        df_grouped.columns = df_grouped.columns.droplevel()\n",
    "        df_grouped = df_grouped.reset_index()\n",
    "        value_columns = ['mean', 'std', 'percentile_95', 'percentile_99', 'amax', 'count']\n",
    "        # Melt the value columns -> key, value style\n",
    "        df_grouped = pd.melt(df_grouped, id_vars=['Method', 'Distribution'], value_vars=value_columns)\n",
    "        df_grouped['instance'] = instance_name\n",
    "        # For each variable, mark the smallest value (among all methods) with a binary marker in an extra column\n",
    "        df_grouped['is_min'] = df_grouped['value'] == df_grouped.groupby(['Distribution', 'variable'])['value'] \\\n",
    "                                                                                  .transform('min')\n",
    "        #print(df_grouped)\n",
    "        #df_grouped.columns = df_grouped.columns.droplevel(0)\n",
    "        grouped_df_list_tableau.append(df_grouped)\n",
    "        #df_grouped.rename(columns=dict(zip(df_grouped.columns[[0, 1, 2, 3, 4]], labels)),inplace=True)\n",
    "        \n",
    "        df = df.rename(columns={\"TWCT\": distribution})\n",
    "        table = pd.pivot_table(df, values=[distribution], index=['Gamma', 'Method'], columns=['Distribution'], \\\n",
    "                           aggfunc={distribution: [np.mean, np.std, np.max, percentile(95), percentile(99),'count']})\n",
    "        table.columns = table.columns.droplevel(2)\n",
    "        # Re-order table columns\n",
    "        column_order = [(distribution,'mean'), (distribution,'std'), (distribution,'percentile_95'), \\\n",
    "                        (distribution,'percentile_99'), (distribution,'amax'), (distribution,'count')]\n",
    "        table = table.reindex(column_order, axis=1)\n",
    "        # Renaming the pivot table columns to improve presentation\n",
    "        #labels = [r'$E(\\varphi(\\sigma))$', r'$SD(\\varphi(\\sigma))$', r'$\\varphi_{0.95}(\\sigma)$', \\\n",
    "        #          r'$\\varphi_{0.99}(\\sigma)$', r'$\\varphi_{max}(\\sigma)$']\n",
    "        #table = table.rename(columns={\"mean\": labels[0], \"std\": labels[1], \"percentile_95\": labels[2], \\\n",
    "        #                              'percentile_99': labels[3], 'amax': labels[4]}, level=1, errors=\"raise\")\n",
    "        table.columns.set_levels(['Results from {} distribution'.format(distribution)],level=0,inplace=True)\n",
    "        table = table.round(1)\n",
    "        grouped_df_list.append(table.copy())\n",
    "        #print(table)\n",
    "    # end for\n",
    "    df_to_tableau = pd.concat(grouped_df_list_tableau)\n",
    "    df_all = pd.concat(grouped_df_list, join='inner', axis=1)\n",
    "    print(df_all)\n",
    "    #print(df_all.to_latex(escape=False, float_format='%.1f', sparsify=True, label='tab:simresults_{}'.format(instance_name), \n",
    "    #                      caption='Summary of the simulation for deterministic, 2RPFS and SimGRASP solution methods' + \\\n",
    "    #                      ' from lognormal, triangular and uniform distributions.'))\n",
    "    if save_csv:\n",
    "        df_all.to_csv(os.path.join(outputfolder, 'table_simulation_results_{}.csv'.format(instance_name)), sep=';')\n",
    "        df_to_tableau.to_csv(os.path.join(outputfolder, 'stats_simulation_results_{}.csv'.format(instance_name)), sep=';', index=False)\n",
    "    #sup_labels = ['Results from {} distribution'.format(dist) for dist in ['lognormal', 'symmetric triangular', 'uniform']]\n",
    "    "
   ]
  },
  {
   "cell_type": "markdown",
   "metadata": {},
   "source": [
    "### Small uncertainty range instance"
   ]
  },
  {
   "cell_type": "code",
   "execution_count": null,
   "metadata": {},
   "outputs": [],
   "source": [
    "filename = 'instance_2_9_4_wct_inputs.txt'\n",
    "simgrasp_filename = 'instance_2_9_4_wct_inputs.txt'\n",
    "table_simulation_comparison(9, 4, sim_results_folder_det_rob, sim_results_folder_ssgrasp, filename, simgrasp_filename,\n",
    "                            r'$(a)$', '',\n",
    "    #include_results=['2RPFS(100,100)', '2RPFS(100,60)', '2RPFS(100,80)', '2RPFS(20,20)', '2RPFS(20,40)', '2RPFS(40,40)', \\\n",
    "    #'2RPFS(40,60)', '2RPFS(40,80)', '2RPFS(60,20)', '2RPFS(60,40)', '2RPFS(60,80)', '2RPFS(80,40)', '2RPFS(80,80)', \\\n",
    "    #'Det', 'SimGRASP'], \n",
    "    save_csv=True, num_iter=10000)"
   ]
  },
  {
   "cell_type": "markdown",
   "metadata": {},
   "source": [
    "### Large uncertainty range instance"
   ]
  },
  {
   "cell_type": "code",
   "execution_count": null,
   "metadata": {},
   "outputs": [],
   "source": [
    "filename = 'instance_15_5_R30_wct_inputs.txt'\n",
    "simgrasp_filename = 'instance_1_15_5_wct_inputs.txt'\n",
    "table_simulation_comparison(15, 5, sim_results_folder_det_rob, sim_results_folder_ssgrasp, filename, simgrasp_filename, \n",
    "                            r'$(b)$', '',\n",
    "                           #include_results=['2RPFS(100,80)', '2RPFS(20,20)', '2RPFS(20,40)', '2RPFS(40,20)', '2RPFS(40,40)', \\\n",
    "                           # '2RPFS(40,60)', '2RPFS(60,40)', '2RPFS(60,60)', '2RPFS(60,80)', '2RPFS(80,40)', '2RPFS(20,80)', \\\n",
    "                           # 'Det', 'SimGRASP'], \n",
    "                            save_csv=True) # , num_iter=1000000)"
   ]
  },
  {
   "cell_type": "code",
   "execution_count": null,
   "metadata": {},
   "outputs": [],
   "source": []
  },
  {
   "cell_type": "code",
   "execution_count": null,
   "metadata": {},
   "outputs": [],
   "source": []
  }
 ],
 "metadata": {
  "kernelspec": {
   "display_name": "Python 3",
   "language": "python",
   "name": "python3"
  },
  "language_info": {
   "codemirror_mode": {
    "name": "ipython",
    "version": 3
   },
   "file_extension": ".py",
   "mimetype": "text/x-python",
   "name": "python",
   "nbconvert_exporter": "python",
   "pygments_lexer": "ipython3",
   "version": "3.9.5"
  }
 },
 "nbformat": 4,
 "nbformat_minor": 4
}
